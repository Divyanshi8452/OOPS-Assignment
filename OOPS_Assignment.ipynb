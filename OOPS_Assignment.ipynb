{
  "nbformat": 4,
  "nbformat_minor": 0,
  "metadata": {
    "colab": {
      "provenance": []
    },
    "kernelspec": {
      "name": "python3",
      "display_name": "Python 3"
    },
    "language_info": {
      "name": "python"
    }
  },
  "cells": [
    {
      "cell_type": "markdown",
      "source": [
        "# Theory Question\n",
        "\n",
        "1. What is Object-Oriented Programming\n",
        "--> It is a way of writing code that is based on \"objects\", like how we think about things in real life.\n",
        "\n",
        "2. What is a class in OOP?\n",
        "--> - A blueprint or template for creating objects.\n",
        "- Defines properties (data) and methods (functions) that objects can use.\n",
        "\n",
        "3. What is an object in OOP?\n",
        "--> A real thing made from the class. (Like an actual cake made from the recipe).\n",
        "\n",
        "4. What is the difference between abstraction and encapsulation?\n",
        "--> Encapsulation (Hiding the data)\n",
        "It's like putting things inside a box so others can't mess with them directly.\n",
        "*  It bundles data (variables) and methods (functions) into one unit (a class).\n",
        "*  It also protects the data by restricting direct access to it.\n",
        "\n",
        "\n",
        "Abstraction ( Hiding the complexity)\n",
        "It's like using something without knowing how it works inside.\n",
        "*  It hides the internal details and shows only the essential parts.\n",
        "*  Usually done through abstract classes or interfaces.\n",
        "\n",
        "5. What are dunder methods in Python?\n",
        "--> Dunder methods are special methods in Python that start and end with two underscores.\n",
        "\n",
        "6. Explain the concept of inheritance in OOP.\n",
        "-->Inheritance means that one class can inherit or reuse the features of another class (called a parent or superclass).\n",
        "\n",
        "7. What is polymorphism in OOP?\n",
        "--> In OOP, it lets different classes use the same method name, but each class can have its own version of how that method works.\n",
        "\n",
        "8.  How is encapsulation achieved in Python?\n",
        "--> Encapsulation means hiding the internal details of how something works, and only showing what is necessary.\n",
        "\n",
        "In Python, encapsulation is used to protect data inside a class, so it can't be changed directly from outside.\n",
        "\n",
        "9. What is a constructor in Python?\n",
        "--> A constructor in Python is a special method that runs automatically when you create an object from a class.\n",
        "It's used to set up the object with some starting values.\n",
        "\n",
        "10.  What are class and static methods in Python.\n",
        "-->  \n",
        "####class method\n",
        " A class method is a method that belongs to the class itself, not to any one object.\n",
        "It can access and modify class state.\n",
        "####static method\n",
        "A static method doesn't access instance (self) or class (cls) variables.\n",
        "It's like a regular function but lives inside the class for organization.\n",
        "\n",
        "11. What is method overloading in Python?\n",
        "--> Method overloading means having multiple methods with the same name but different numbers or types of parameters in the same class.\n",
        "\n",
        "It allows you to call the same method name but with different arguments, and the program decides which one to use.\n",
        "\n",
        "12. What is method overriding in OOP?\n",
        "--> Method overriding happens when a child class provides its own version of a method that already exists in its parent class.\n",
        "\n",
        "* The child class's method replaces the parent class's method when called on an object of the child class.\n",
        "\n",
        "* This lets the child class customize or change the behavior of the method.\n",
        "\n",
        "13.  What is a property decorator in Python?\n",
        "-->\n",
        "* It lets you define a method that you can access like a regular variable.\n",
        "* This helps to control how you get or set a value without changing how you access it.\n",
        "\n",
        "14. Why is polymorphism important in OOP?\n",
        "--> 1 Flexibility\n",
        "2 Code Reusability\n",
        "3 Easier Maintenance\n",
        "4 Supports Interface and Design Patterns\n",
        "\n",
        "15. What is an abstract class in Python?\n",
        "--> An abstract class is a class that can't be instantiated on its own, it's meant to be a base class for other classes.\n",
        "\n",
        "It defines a common interface (methods) that child classes must implement.\n",
        "\n",
        "It can have some methods implemented, and some abstract methods that have no implementation.\n",
        "\n",
        "16. What are the advantages of OOP?\n",
        "--> 1 Modularity\n",
        "2 Reusability\n",
        "3 Scalability\n",
        "4 Data Security (Encapsulation)\n",
        "5 Flexibility (Polymorphism)\n",
        "6 Maintainability\n",
        "7 Real-world Modeling\n",
        "\n",
        "17. What is the difference between a class variable and an instance variable?\n",
        "-->\n",
        "Class Variable:\n",
        "- Shared by all instances: A variable that belongs to the class itself.\n",
        "- Same value for all objects: Changes affect all instances.\n",
        "\n",
        "Instance Variable:\n",
        "- Unique to each instance: A variable that belongs to a specific object.\n",
        "- Different values for each object: Changes affect only one instance.\n",
        "\n",
        "18.  What is multiple inheritance in Python?\n",
        "--> Multiple inheritance means a class can inherit from more than one parent class at the same time.\n",
        "* The child class gets features (methods and variables) from all its parent classes.\n",
        "* This helps combine behaviors from different classes into one.\n",
        "\n",
        "19. Explain the purpose of \"__str__' and '__repr__\" methods in Python.\n",
        "--> 1. __repr__ (Representation)\n",
        "\n",
        "* Purpose: Provide an official, unambiguous string representation of the object.\n",
        "* Meant for: Developers.\n",
        "* Should ideally return a string that, if passed to eval(), recreates the object (if possible).\n",
        "* Called by: repr() function and by default in the interactive interpreter.\n",
        "\n",
        "2. __str__ (String)\n",
        "\n",
        "* Purpose: Provide a friendly, readable string representation of the object.\n",
        "* Meant for: End users.\n",
        "* Called by: str() function and when you use print() on the object.\n",
        "\n",
        "20. What is the significance of the 'super()' function in Python?\n",
        "--> The super() function in Python is used to call a method from the parent (super) class.\n",
        "It's mostly used inside child classes to reuse code from their parent classes — especially in inheritance.\n",
        "\n",
        "21.  What is the significance of the __del__ method in Python?\n",
        "--> The __del__ method is a special method in Python called a destructor.\n",
        "It is called automatically when an object is about to be destroyed.\n",
        "\n",
        "22. What is the difference between @staticmethod and @classmethod in Python?\n",
        "--> @staticmethod:\n",
        "- No access to class or instance: A method that belongs to a class, but doesn't access its attributes.\n",
        "- Useful for utility functions: Methods that don't depend on the class or instance state.\n",
        "\n",
        "@classmethod:\n",
        "- Access to class: A method that belongs to a class and has access to its attributes.\n",
        "- Useful for alternative constructors: Methods that create instances or modify class state.\n",
        "\n",
        "23. How does polymorphism work in Python with inheritance?\n",
        "--> Polymorphism:\n",
        "- Multiple forms: Objects of different classes can be treated as objects of a common superclass.\n",
        "- Method overriding: Subclasses can provide their own implementation of a method.\n",
        "\n",
        "24. What is method chaining in Python OOP?\n",
        "-->Method Chaining:\n",
        "- Returning self: A method returns the instance itself, allowing multiple method calls to be chained together.\n",
        "- Improving readability: Simplifies code and reduces the need for temporary variables.\n",
        "\n",
        "25. What is the purpose of the __call__ method in Python?\n",
        "-->_call_ Method in Python\n",
        "- Making instances callable: Allows an instance of a class to be treated as a function.\n",
        "- Customizable behavior: Defines what happens when an instance is called like a function.\n",
        "\n",
        "\n",
        "# Theory Question example are given below\n"
      ],
      "metadata": {
        "id": "5-vZu3EC7Rgx"
      }
    },
    {
      "cell_type": "markdown",
      "source": [],
      "metadata": {
        "id": "YkGdacCnNiQH"
      }
    },
    {
      "cell_type": "code",
      "source": [
        "# example for ques 4\n",
        "class Person:\n",
        "    def __init__(self, name):\n",
        "        self.__name = name  # private variable\n",
        "\n",
        "    def get_name(self):\n",
        "        return self.__name  # controlled access\n",
        "\n",
        "p = Person(\"Divyanshi\")\n",
        "print(p.get_name())"
      ],
      "metadata": {
        "colab": {
          "base_uri": "https://localhost:8080/"
        },
        "id": "yZ0y0YHj9_yB",
        "outputId": "b79dcd83-44bc-4ab9-8b4f-2736d644f6e6"
      },
      "execution_count": 2,
      "outputs": [
        {
          "output_type": "stream",
          "name": "stdout",
          "text": [
            "Divyanshi\n"
          ]
        }
      ]
    },
    {
      "cell_type": "code",
      "source": [
        "from abc import ABC, abstractmethod\n",
        "\n",
        "class Animal(ABC):\n",
        "    @abstractmethod\n",
        "    def make_sound(self):\n",
        "        pass\n",
        "\n",
        "class Dog(Animal):\n",
        "    def make_sound(self):\n",
        "        print(\"Woof!\")\n",
        "\n",
        "a = Dog()\n",
        "a.make_sound()"
      ],
      "metadata": {
        "colab": {
          "base_uri": "https://localhost:8080/"
        },
        "id": "6ayycVOE-SvB",
        "outputId": "0a186ebe-b036-4744-c10b-5889da75cac6"
      },
      "execution_count": 3,
      "outputs": [
        {
          "output_type": "stream",
          "name": "stdout",
          "text": [
            "Woof!\n"
          ]
        }
      ]
    },
    {
      "cell_type": "code",
      "source": [
        "# example for ques 5\n",
        "class Book:\n",
        "    def __init__(self, title, pages):\n",
        "        self.title = title\n",
        "        self.pages = pages\n",
        "\n",
        "    def __str__(self):\n",
        "        return f\"Book: {self.title}\"\n",
        "\n",
        "    def __len__(self):\n",
        "        return self.pages\n",
        "\n",
        "book = Book(\"Python Basics\", 300)\n",
        "\n",
        "print(book)\n",
        "print(len(book))"
      ],
      "metadata": {
        "colab": {
          "base_uri": "https://localhost:8080/"
        },
        "id": "UPcvEssL-YS0",
        "outputId": "d903e927-b234-4baf-e15b-2f88001cac14"
      },
      "execution_count": 4,
      "outputs": [
        {
          "output_type": "stream",
          "name": "stdout",
          "text": [
            "Book: Python Basics\n",
            "300\n"
          ]
        }
      ]
    },
    {
      "cell_type": "code",
      "source": [
        "# example for ques 6\n",
        "class Animal:\n",
        "    def __init__(self, name):\n",
        "        self.name = name\n",
        "\n",
        "    def eat(self):\n",
        "        print(f\"{self.name} is eating.\")\n",
        "\n",
        "\n",
        "class Dog(Animal):\n",
        "    def bark(self):\n",
        "        print(f\"{self.name} says Woof!\")\n",
        "\n",
        "my_dog = Dog(\"Buddy\")\n",
        "\n",
        "my_dog.eat()\n",
        "my_dog.bark()\n",
        "\n",
        "\n",
        ""
      ],
      "metadata": {
        "colab": {
          "base_uri": "https://localhost:8080/"
        },
        "id": "3LilETD1-6mr",
        "outputId": "71a385cf-a35e-46dc-bad8-59dafecee56a"
      },
      "execution_count": 15,
      "outputs": [
        {
          "output_type": "stream",
          "name": "stdout",
          "text": [
            "Buddy is eating.\n",
            "Buddy says Woof!\n"
          ]
        }
      ]
    },
    {
      "cell_type": "code",
      "source": [
        "# example for ques 7\n",
        "class Animal:\n",
        "    def make_sound(self):\n",
        "        print(\"Some generic animal sound\")\n",
        "\n",
        "class Dog(Animal):\n",
        "    def make_sound(self):\n",
        "        print(\"Woof!\")\n",
        "\n",
        "class Cat(Animal):\n",
        "    def make_sound(self):\n",
        "        print(\"Meow!\")\n",
        "\n",
        "\n",
        "def animal_sound(animal):\n",
        "    animal.make_sound()\n",
        "\n",
        "dog = Dog()\n",
        "cat = Cat()\n",
        "\n",
        "animal_sound(dog)\n",
        "animal_sound(cat)"
      ],
      "metadata": {
        "colab": {
          "base_uri": "https://localhost:8080/"
        },
        "id": "mT22LZvIAwI-",
        "outputId": "0ea555c8-5eb5-4e15-bffb-139ce0fe0e0a"
      },
      "execution_count": 16,
      "outputs": [
        {
          "output_type": "stream",
          "name": "stdout",
          "text": [
            "Woof!\n",
            "Meow!\n"
          ]
        }
      ]
    },
    {
      "cell_type": "code",
      "source": [
        "# eample for ques 8\n",
        "class Person:\n",
        "    def __init__(self, name, age):\n",
        "        self.name = name\n",
        "        self.__age = age\n",
        "\n",
        "    def get_age(self):\n",
        "        return self.__age\n",
        "\n",
        "    def set_age(self, new_age):\n",
        "        if new_age > 0:\n",
        "            self.__age = new_age\n",
        "\n",
        "\n",
        "p = Person(\"Alice\", 25)\n",
        "\n",
        "print(p.name)\n",
        "print(p.get_age())\n",
        "\n",
        "p.set_age(30)\n",
        "print(p.get_age())\n",
        "\n"
      ],
      "metadata": {
        "colab": {
          "base_uri": "https://localhost:8080/"
        },
        "id": "xoufrNVxBL5W",
        "outputId": "3a0a2131-b26c-4f29-9772-f786c92c6225"
      },
      "execution_count": 17,
      "outputs": [
        {
          "output_type": "stream",
          "name": "stdout",
          "text": [
            "Alice\n",
            "25\n",
            "30\n"
          ]
        }
      ]
    },
    {
      "cell_type": "code",
      "source": [
        "# eample for ques 9\n",
        "class Person:\n",
        "    def __init__(self, name, age):\n",
        "        self.name = name\n",
        "        self.age = age\n",
        "\n",
        "p = Person(\"Alice\", 25)\n",
        "\n",
        "print(p.name)\n",
        "print(p.age)"
      ],
      "metadata": {
        "colab": {
          "base_uri": "https://localhost:8080/"
        },
        "id": "TX6YhmKQB5VA",
        "outputId": "a71d2788-dc55-4f5f-f96d-e3ca3d32293b"
      },
      "execution_count": 18,
      "outputs": [
        {
          "output_type": "stream",
          "name": "stdout",
          "text": [
            "Alice\n",
            "25\n"
          ]
        }
      ]
    },
    {
      "cell_type": "code",
      "source": [
        "# eample for ques 10\n",
        "class Dog:\n",
        "    species = \"Canis familiaris\"  # class variable\n",
        "\n",
        "    def __init__(self, name, age):\n",
        "        self.name = name\n",
        "        self.age = age\n",
        "\n",
        "    @classmethod\n",
        "    def get_species(cls):\n",
        "        return cls.species\n",
        "\n",
        "print(Dog.get_species())\n",
        "\n",
        "class Math:\n",
        "    @staticmethod\n",
        "    def add(a, b):\n",
        "        return a + b\n",
        "\n",
        "print(Math.add(5, 7))"
      ],
      "metadata": {
        "colab": {
          "base_uri": "https://localhost:8080/"
        },
        "id": "wdHwZksZCWfb",
        "outputId": "7c184492-86d2-4e88-ffe9-258d4f36eac1"
      },
      "execution_count": 21,
      "outputs": [
        {
          "output_type": "stream",
          "name": "stdout",
          "text": [
            "Canis familiaris\n",
            "12\n"
          ]
        }
      ]
    },
    {
      "cell_type": "code",
      "source": [
        "# # eample for ques 11\n",
        "#default arguments\n",
        "class Math:\n",
        "    def add(self, a, b=0, c=0):\n",
        "        return a + b + c\n",
        "\n",
        "m = Math()\n",
        "print(m.add(5))\n",
        "print(m.add(5, 3))\n",
        "print(m.add(5, 3, 2))\n",
        "\n",
        "# arg\n",
        "class Math:\n",
        "    def add(self, *args):\n",
        "        return sum(args)\n",
        "\n",
        "m = Math()\n",
        "print(m.add(5))\n",
        "print(m.add(5, 3))\n",
        "print(m.add(5, 3, 2))"
      ],
      "metadata": {
        "colab": {
          "base_uri": "https://localhost:8080/"
        },
        "id": "BOAyb0EfDMsi",
        "outputId": "227164d6-f6ea-4316-e16c-1a7e7502fd42"
      },
      "execution_count": 22,
      "outputs": [
        {
          "output_type": "stream",
          "name": "stdout",
          "text": [
            "5\n",
            "8\n",
            "10\n",
            "5\n",
            "8\n",
            "10\n"
          ]
        }
      ]
    },
    {
      "cell_type": "code",
      "source": [
        "# example for ques 12\n",
        "class Animal:\n",
        "    def sound(self):\n",
        "        print(\"Some generic animal sound\")\n",
        "\n",
        "class Dog(Animal):\n",
        "    def sound(self):\n",
        "        print(\"Woof!\")\n",
        "\n",
        "animal = Animal()\n",
        "dog = Dog()\n",
        "\n",
        "animal.sound()\n",
        "dog.sound()"
      ],
      "metadata": {
        "colab": {
          "base_uri": "https://localhost:8080/"
        },
        "id": "PI4BgG43ELLS",
        "outputId": "90a11ba7-c689-4554-f35b-dae530547715"
      },
      "execution_count": 23,
      "outputs": [
        {
          "output_type": "stream",
          "name": "stdout",
          "text": [
            "Some generic animal sound\n",
            "Woof!\n"
          ]
        }
      ]
    },
    {
      "cell_type": "code",
      "source": [
        "# example for ques 13\n",
        "class Person:\n",
        "    def __init__(self, name):\n",
        "        self._name = name\n",
        "\n",
        "    @property\n",
        "    def name(self):\n",
        "        return self._name\n",
        "\n",
        "p = Person(\"Divyanshi\")\n",
        "print(p.name)"
      ],
      "metadata": {
        "colab": {
          "base_uri": "https://localhost:8080/"
        },
        "id": "qNbwLBOqE79_",
        "outputId": "231f10e1-e154-4475-85e6-935d190cc8ce"
      },
      "execution_count": 24,
      "outputs": [
        {
          "output_type": "stream",
          "name": "stdout",
          "text": [
            "Divyanshi\n"
          ]
        }
      ]
    },
    {
      "cell_type": "code",
      "source": [
        "# example for ques 15\n",
        "from abc import ABC, abstractmethod\n",
        "\n",
        "class Animal(ABC):\n",
        "\n",
        "    @abstractmethod\n",
        "    def make_sound(self):\n",
        "        pass  # No implementation here\n",
        "\n",
        "class Dog(Animal):\n",
        "    def make_sound(self):\n",
        "        print(\"Woof!\")\n",
        "\n",
        "class Cat(Animal):\n",
        "    def make_sound(self):\n",
        "        print(\"Meow!\")\n",
        "\n",
        "\n",
        "\n",
        "dog = Dog()\n",
        "dog.make_sound()\n",
        "\n",
        "cat = Cat()\n",
        "cat.make_sound()"
      ],
      "metadata": {
        "colab": {
          "base_uri": "https://localhost:8080/"
        },
        "id": "lGDOEtSMFcdM",
        "outputId": "3cd59ff0-48e6-47ca-a133-a168b80800cb"
      },
      "execution_count": 25,
      "outputs": [
        {
          "output_type": "stream",
          "name": "stdout",
          "text": [
            "Woof!\n",
            "Meow!\n"
          ]
        }
      ]
    },
    {
      "cell_type": "code",
      "source": [
        "# example for ques 17\n",
        "class Car:\n",
        "    wheels = 4\n",
        "    def __init__(self, color):\n",
        "        self.color = color\n",
        "\n",
        "car1 = Car(\"Red\")\n",
        "car2 = Car(\"Blue\")\n",
        "\n",
        "print(car1.wheels)\n",
        "print(car2.wheels)\n",
        "print(car1.color)\n",
        "print(car2.color)"
      ],
      "metadata": {
        "colab": {
          "base_uri": "https://localhost:8080/"
        },
        "id": "fsLHis5MGmHc",
        "outputId": "3ae7f9b0-a4c9-4a4f-fd34-2a24775083f4"
      },
      "execution_count": 26,
      "outputs": [
        {
          "output_type": "stream",
          "name": "stdout",
          "text": [
            "4\n",
            "4\n",
            "Red\n",
            "Blue\n"
          ]
        }
      ]
    },
    {
      "cell_type": "code",
      "source": [
        "# example for ques 18\n",
        "class Father:\n",
        "    def skills(self):\n",
        "        print(\"Gardening, Programming\")\n",
        "\n",
        "class Mother:\n",
        "    def skills(self):\n",
        "        print(\"Cooking, Art\")\n",
        "\n",
        "class Child(Father, Mother):\n",
        "    def skills(self):\n",
        "        Father.skills(self)\n",
        "        Mother.skills(self)\n",
        "        print(\"Sports\")\n",
        "\n",
        "c = Child()\n",
        "c.skills()"
      ],
      "metadata": {
        "colab": {
          "base_uri": "https://localhost:8080/"
        },
        "id": "LkVIwV4JH6ry",
        "outputId": "89ab91ee-ddac-4d2f-d724-66661690ff59"
      },
      "execution_count": 27,
      "outputs": [
        {
          "output_type": "stream",
          "name": "stdout",
          "text": [
            "Gardening, Programming\n",
            "Cooking, Art\n",
            "Sports\n"
          ]
        }
      ]
    },
    {
      "cell_type": "code",
      "source": [
        "# example for ques 19\n",
        "class Person:\n",
        "    def __init__(self, name, age):\n",
        "        self.name = name\n",
        "        self.age = age\n",
        "\n",
        "    def __repr__(self):\n",
        "        return f\"Person('{self.name}', {self.age})\"\n",
        "\n",
        "    def __str__(self):\n",
        "        return f\"{self.name} is {self.age} years old.\"\n",
        "\n",
        "p = Person(\"Divyanshi\", 25)\n",
        "\n",
        "print(repr(p))\n",
        "print(str(p))\n",
        "\n",
        "print(p)"
      ],
      "metadata": {
        "colab": {
          "base_uri": "https://localhost:8080/"
        },
        "id": "np7gp1yVIj4a",
        "outputId": "97cb1dc3-b008-48d5-869c-85476f85817d"
      },
      "execution_count": 29,
      "outputs": [
        {
          "output_type": "stream",
          "name": "stdout",
          "text": [
            "Person('Divyanshi', 25)\n",
            "Divyanshi is 25 years old.\n",
            "Divyanshi is 25 years old.\n"
          ]
        }
      ]
    },
    {
      "cell_type": "code",
      "source": [
        "# example for ques 20\n",
        "class Animal:\n",
        "    def __init__(self, name):\n",
        "        self.name = name\n",
        "        print(f\"Animal created: {self.name}\")\n",
        "\n",
        "class Dog(Animal):\n",
        "    def __init__(self, name, breed):\n",
        "        super().__init__(name)\n",
        "        self.breed = breed\n",
        "        print(f\"Dog breed: {self.breed}\")\n",
        "\n",
        "d = Dog(\"Buddy\", \"Labrador\")"
      ],
      "metadata": {
        "colab": {
          "base_uri": "https://localhost:8080/"
        },
        "id": "Q-LbgEfVJ6Wo",
        "outputId": "e7fcdda1-167d-496b-8387-7cfd74e0ba9f"
      },
      "execution_count": 30,
      "outputs": [
        {
          "output_type": "stream",
          "name": "stdout",
          "text": [
            "Animal created: Buddy\n",
            "Dog breed: Labrador\n"
          ]
        }
      ]
    },
    {
      "cell_type": "code",
      "source": [
        "# example for ques 21\n",
        "class FileHandler:\n",
        "    def __init__(self, filename):\n",
        "        self.file = open(filename, 'w')\n",
        "        print(\"File opened\")\n",
        "\n",
        "    def __del__(self):\n",
        "        self.file.close()\n",
        "        print(\"File closed\")\n",
        "\n",
        "fh = FileHandler(\"demo.txt\")\n",
        "del fh"
      ],
      "metadata": {
        "colab": {
          "base_uri": "https://localhost:8080/"
        },
        "id": "T_Zawa7GK4t_",
        "outputId": "86f3446e-c337-4cd0-a858-7be786f4eb68"
      },
      "execution_count": 31,
      "outputs": [
        {
          "output_type": "stream",
          "name": "stdout",
          "text": [
            "File opened\n",
            "File closed\n"
          ]
        }
      ]
    },
    {
      "cell_type": "code",
      "source": [
        "# example for ques 22\n",
        "class MyClass:\n",
        "    count = 0\n",
        "\n",
        "    def __init__(self):\n",
        "        MyClass.count += 1\n",
        "\n",
        "    @staticmethod\n",
        "    def add(a, b):\n",
        "        return a + b\n",
        "\n",
        "    @classmethod\n",
        "    def get_count(cls):\n",
        "        return cls.count\n",
        "\n",
        "print(MyClass.add(2, 3))\n",
        "print(MyClass.get_count())\n",
        "obj = MyClass()\n",
        "print(MyClass.get_count())"
      ],
      "metadata": {
        "colab": {
          "base_uri": "https://localhost:8080/"
        },
        "id": "R_z8lwTfLSeI",
        "outputId": "9ceddab1-bf71-4855-996b-404767c23357"
      },
      "execution_count": 32,
      "outputs": [
        {
          "output_type": "stream",
          "name": "stdout",
          "text": [
            "5\n",
            "0\n",
            "1\n"
          ]
        }
      ]
    },
    {
      "cell_type": "code",
      "source": [
        "# example for ques 23\n",
        "class Animal:\n",
        "    def sound(self):\n",
        "        print(\"Animal makes a sound\")\n",
        "\n",
        "class Dog(Animal):\n",
        "    def sound(self):\n",
        "        print(\"Dog barks\")\n",
        "\n",
        "class Cat(Animal):\n",
        "    def sound(self):\n",
        "        print(\"Cat meows\")\n",
        "\n",
        "def make_sound(animal: Animal):\n",
        "    animal.sound()\n",
        "\n",
        "dog = Dog()\n",
        "cat = Cat()\n",
        "\n",
        "make_sound(dog)\n",
        "make_sound(cat)"
      ],
      "metadata": {
        "colab": {
          "base_uri": "https://localhost:8080/"
        },
        "id": "jp9i0783L3Ck",
        "outputId": "bd4f195d-47d9-4977-c11b-048aa17a242b"
      },
      "execution_count": 33,
      "outputs": [
        {
          "output_type": "stream",
          "name": "stdout",
          "text": [
            "Dog barks\n",
            "Cat meows\n"
          ]
        }
      ]
    },
    {
      "cell_type": "code",
      "source": [
        "# example for ques 24\n",
        "class Person:\n",
        "    def __init__(self, name):\n",
        "        self.name = name\n",
        "\n",
        "    def set_age(self, age):\n",
        "        self.age = age\n",
        "        return self\n",
        "\n",
        "    def set_city(self, city):\n",
        "        self.city = city\n",
        "        return self\n",
        "\n",
        "person = Person(\"Divyanshi\").set_age(25).set_city(\"Lucknow\")\n",
        "print(person.name)\n",
        "print(person.age)\n",
        "print(person.city)"
      ],
      "metadata": {
        "colab": {
          "base_uri": "https://localhost:8080/"
        },
        "id": "lbxFK0e9MYVY",
        "outputId": "d991f874-cbb4-421d-eb44-2c339c1e02db"
      },
      "execution_count": 34,
      "outputs": [
        {
          "output_type": "stream",
          "name": "stdout",
          "text": [
            "Divyanshi\n",
            "25\n",
            "Lucknow\n"
          ]
        }
      ]
    },
    {
      "cell_type": "code",
      "source": [
        "# example for ques 25\n",
        "class Counter:\n",
        "    def __init__(self):\n",
        "        self.count = 0\n",
        "\n",
        "    def __call__(self):\n",
        "        self.count += 1\n",
        "        return self.count\n",
        "\n",
        "counter = Counter()\n",
        "print(counter())\n",
        "print(counter())\n",
        "print(counter())"
      ],
      "metadata": {
        "colab": {
          "base_uri": "https://localhost:8080/"
        },
        "id": "zFJFRpQDM7Qe",
        "outputId": "3d0add65-0f45-46d7-ca4a-7153b8046d70"
      },
      "execution_count": 35,
      "outputs": [
        {
          "output_type": "stream",
          "name": "stdout",
          "text": [
            "1\n",
            "2\n",
            "3\n"
          ]
        }
      ]
    },
    {
      "cell_type": "markdown",
      "source": [
        "# Practical questions"
      ],
      "metadata": {
        "id": "mQy2AvzGOHfB"
      }
    },
    {
      "cell_type": "code",
      "source": [
        "'''  ques 1 Create a parent class Animal with a method speak() that prints a generic message. Create a child class Dog\n",
        "that overrides the speak() method to print \"Bark!\".\n",
        "'''\n",
        "class Animal:\n",
        "    def speak(self):\n",
        "        print(\"Animal speaks\")\n",
        "\n",
        "class Dog(Animal):\n",
        "    def speak(self):\n",
        "        print(\"Bark!\")\n",
        "\n",
        "dog = Dog()\n",
        "dog.speak()"
      ],
      "metadata": {
        "colab": {
          "base_uri": "https://localhost:8080/"
        },
        "id": "InjGW9KWJ2IG",
        "outputId": "6527daac-b71a-4ee9-8d06-f50347615b52"
      },
      "execution_count": 36,
      "outputs": [
        {
          "output_type": "stream",
          "name": "stdout",
          "text": [
            "Bark!\n"
          ]
        }
      ]
    },
    {
      "cell_type": "code",
      "source": [
        "''' ques 2 Write a program to create an abstract class Shape with a method area(). Derive classes Circle and Rectangle\n",
        "from it and implement the area() method in both.\n",
        "'''\n",
        "from abc import ABC, abstractmethod\n",
        "import math\n",
        "\n",
        "# Abstract base class\n",
        "class Shape(ABC):\n",
        "\n",
        "    @abstractmethod\n",
        "    def area(self):\n",
        "        pass  # No implementation here\n",
        "\n",
        "# Derived class: Circle\n",
        "class Circle(Shape):\n",
        "    def __init__(self, radius):\n",
        "        self.radius = radius\n",
        "\n",
        "    def area(self):\n",
        "        return math.pi * self.radius ** 2\n",
        "\n",
        "# Derived class: Rectangle\n",
        "class Rectangle(Shape):\n",
        "    def __init__(self, length, width):\n",
        "        self.length = length\n",
        "        self.width = width\n",
        "\n",
        "    def area(self):\n",
        "        return self.length * self.width\n",
        "\n",
        "# Create objects\n",
        "circle = Circle(5)\n",
        "rectangle = Rectangle(4, 6)\n",
        "\n",
        "# Print areas\n",
        "print(f\"Area of Circle: {circle.area():.2f}\")\n",
        "print(f\"Area of Rectangle: {rectangle.area()}\")"
      ],
      "metadata": {
        "colab": {
          "base_uri": "https://localhost:8080/"
        },
        "id": "CYGSj3aPOWXy",
        "outputId": "94f684ee-7ace-436d-9871-b7a264c57d75"
      },
      "execution_count": 39,
      "outputs": [
        {
          "output_type": "stream",
          "name": "stdout",
          "text": [
            "Area of Circle: 78.54\n",
            "Area of Rectangle: 24\n"
          ]
        }
      ]
    },
    {
      "cell_type": "code",
      "source": [
        "''' ques 3 Implement a multi-level inheritance scenario where a class Vehicle has an attribute type. Derive a class Car\n",
        "and further derive a class ElectricCar that adds a battery attribute.\n",
        "'''\n",
        "class Vehicle:\n",
        "    def __init__(self, vehicle_type):\n",
        "        self.type = vehicle_type\n",
        "\n",
        "    def display_type(self):\n",
        "        print(f\"Vehicle Type: {self.type}\")\n",
        "\n",
        "\n",
        "class Car(Vehicle):\n",
        "    def __init__(self, vehicle_type, brand):\n",
        "        super().__init__(vehicle_type)\n",
        "        self.brand = brand\n",
        "\n",
        "    def display_brand(self):\n",
        "        print(f\"Car Brand: {self.brand}\")\n",
        "\n",
        "\n",
        "class ElectricCar(Car):\n",
        "    def __init__(self, vehicle_type, brand, battery_capacity):\n",
        "        super().__init__(vehicle_type, brand)\n",
        "        self.battery = battery_capacity\n",
        "\n",
        "    def display_battery(self):\n",
        "        print(f\"Battery Capacity: {self.battery} kWh\")\n",
        "\n",
        "\n",
        "e_car = ElectricCar(\"Four Wheeler\", \"Tesla\", 75)\n",
        "\n",
        "\n",
        "e_car.display_type()\n",
        "e_car.display_brand()\n",
        "e_car.display_battery()"
      ],
      "metadata": {
        "colab": {
          "base_uri": "https://localhost:8080/"
        },
        "id": "whIndtWUO2TF",
        "outputId": "16d90759-b7b5-434f-bf22-23f357a2f4ec"
      },
      "execution_count": 40,
      "outputs": [
        {
          "output_type": "stream",
          "name": "stdout",
          "text": [
            "Vehicle Type: Four Wheeler\n",
            "Car Brand: Tesla\n",
            "Battery Capacity: 75 kWh\n"
          ]
        }
      ]
    },
    {
      "cell_type": "code",
      "source": [
        "''' ques 4  Demonstrate polymorphism by creating a base class Bird with a method fly(). Create two derived classes\n",
        "Sparrow and Penguin that override the fly() method.\n",
        "'''\n",
        "\n",
        "class Bird:\n",
        "    def fly(self):\n",
        "        print(\"This bird can fly... maybe.\")\n",
        "\n",
        "\n",
        "class Sparrow(Bird):\n",
        "    def fly(self):\n",
        "        print(\"Sparrow is flying high!\")\n",
        "\n",
        "\n",
        "class Penguin(Bird):\n",
        "    def fly(self):\n",
        "        print(\"Penguins can't fly, but they can swim!\")\n",
        "\n",
        "\n",
        "def bird_fly_test(bird):\n",
        "    bird.fly()\n",
        "\n",
        "sparrow = Sparrow()\n",
        "penguin = Penguin()\n",
        "\n",
        "\n",
        "bird_fly_test(sparrow)\n",
        "bird_fly_test(penguin)"
      ],
      "metadata": {
        "colab": {
          "base_uri": "https://localhost:8080/"
        },
        "id": "evQsWd8-P8QS",
        "outputId": "86a6f38b-e816-4f8b-e265-4acb1442ccdf"
      },
      "execution_count": 42,
      "outputs": [
        {
          "output_type": "stream",
          "name": "stdout",
          "text": [
            "Sparrow is flying high!\n",
            "Penguins can't fly, but they can swim!\n"
          ]
        }
      ]
    },
    {
      "cell_type": "code",
      "source": [
        "''' 5. Write a program to demonstrate encapsulation by creating a class BankAccount with private attributes\n",
        "balance and methods to deposit, withdraw, and check balance.\n",
        "'''\n",
        "class BankAccount:\n",
        "    def __init__(self, initial_balance=0):\n",
        "        self.__balance = initial_balance  # Private attribute\n",
        "\n",
        "    def deposit(self, amount):\n",
        "        if amount > 0:\n",
        "            self.__balance += amount\n",
        "            print(f\"Deposited: ₹{amount}\")\n",
        "        else:\n",
        "            print(\"Deposit amount must be positive.\")\n",
        "\n",
        "    def withdraw(self, amount):\n",
        "        if amount > self.__balance:\n",
        "            print(\"Insufficient funds.\")\n",
        "        elif amount <= 0:\n",
        "            print(\"Withdrawal amount must be positive.\")\n",
        "        else:\n",
        "            self.__balance -= amount\n",
        "            print(f\"Withdrawn: ₹{amount}\")\n",
        "\n",
        "    def check_balance(self):\n",
        "        print(f\"Current Balance: ₹{self.__balance}\")\n",
        "\n",
        "\n",
        "\n",
        "\n",
        "account = BankAccount(1000)\n",
        "\n",
        "account.check_balance()\n",
        "account.deposit(500)\n",
        "account.withdraw(300)\n",
        "account.withdraw(1500)\n",
        "account.check_balance()"
      ],
      "metadata": {
        "colab": {
          "base_uri": "https://localhost:8080/"
        },
        "id": "HDKLkUCOQfHv",
        "outputId": "3501261c-db39-437b-e765-9a98d9437150"
      },
      "execution_count": 43,
      "outputs": [
        {
          "output_type": "stream",
          "name": "stdout",
          "text": [
            "Current Balance: ₹1000\n",
            "Deposited: ₹500\n",
            "Withdrawn: ₹300\n",
            "Insufficient funds.\n",
            "Current Balance: ₹1200\n"
          ]
        }
      ]
    },
    {
      "cell_type": "code",
      "source": [
        "'''\n",
        "6. Demonstrate runtime polymorphism using a method play() in a base class Instrument. Derive classes Guitar\n",
        "and Piano that implement their own version of play().\n",
        "'''\n",
        "\n",
        "class Instrument:\n",
        "    def play(self):\n",
        "        print(\"Playing some instrument...\")\n",
        "\n",
        "class Guitar(Instrument):\n",
        "    def play(self):\n",
        "        print(\"Strumming the guitar!\")\n",
        "\n",
        "class Piano(Instrument):\n",
        "    def play(self):\n",
        "        print(\"Playing the piano keys!\")\n",
        "\n",
        "def perform(instrument):\n",
        "    instrument.play()\n",
        "\n",
        "g = Guitar()\n",
        "p = Piano()\n",
        "\n",
        "perform(g)\n",
        "perform(p)\n"
      ],
      "metadata": {
        "colab": {
          "base_uri": "https://localhost:8080/"
        },
        "id": "m9oqn54nQ0Lz",
        "outputId": "7706ac25-211d-46a6-f8af-f5b5eeae7d85"
      },
      "execution_count": 44,
      "outputs": [
        {
          "output_type": "stream",
          "name": "stdout",
          "text": [
            "Strumming the guitar!\n",
            "Playing the piano keys!\n"
          ]
        }
      ]
    },
    {
      "cell_type": "code",
      "source": [
        "'''\n",
        "7. Create a class MathOperations with a class method add_numbers() to add two numbers and a static\n",
        "method subtract_numbers() to subtract two numbers.\n",
        "'''\n",
        "class MathOperations:\n",
        "    @classmethod\n",
        "    def add_numbers(cls, a, b):\n",
        "        return a + b\n",
        "\n",
        "    @staticmethod\n",
        "    def subtract_numbers(a, b):\n",
        "        return a - b\n",
        "\n",
        "\n",
        "sum_result = MathOperations.add_numbers(10, 5)\n",
        "print(f\"Sum: {sum_result}\")\n",
        "\n",
        "diff_result = MathOperations.subtract_numbers(10, 5)\n",
        "print(f\"Difference: {diff_result}\")\n"
      ],
      "metadata": {
        "colab": {
          "base_uri": "https://localhost:8080/"
        },
        "id": "H_gusow2RJrA",
        "outputId": "6ff9b36a-62c7-4dd6-cb8d-bc939da6b0e6"
      },
      "execution_count": 45,
      "outputs": [
        {
          "output_type": "stream",
          "name": "stdout",
          "text": [
            "Sum: 15\n",
            "Difference: 5\n"
          ]
        }
      ]
    },
    {
      "cell_type": "code",
      "source": [
        "''' 8. Implement a class Person with a class method to count the total number of persons created.\n",
        "'''\n",
        "class Person:\n",
        "\n",
        "    total_persons = 0\n",
        "\n",
        "    def __init__(self, name):\n",
        "        self.name = name\n",
        "        Person.total_persons += 1\n",
        "\n",
        "    @classmethod\n",
        "    def get_total_persons(cls):\n",
        "        return cls.total_persons\n",
        "\n",
        "p1 = Person(\"Divyanshi\")\n",
        "p2 = Person(\"Rishi\")\n",
        "p3 = Person(\"Krishu\")\n",
        "\n",
        "\n",
        "print(\"Total persons created:\", Person.get_total_persons())"
      ],
      "metadata": {
        "colab": {
          "base_uri": "https://localhost:8080/"
        },
        "id": "vdYpmM6qRg62",
        "outputId": "d1ac50d1-859d-4749-ce52-8b2e71f8e863"
      },
      "execution_count": 1,
      "outputs": [
        {
          "output_type": "stream",
          "name": "stdout",
          "text": [
            "Total persons created: 3\n"
          ]
        }
      ]
    },
    {
      "cell_type": "code",
      "source": [
        "''' 9. Write a class Fraction with attributes numerator and denominator. Override the str method to display the\n",
        "fraction as \"numerator/denominator\".\n",
        "'''\n",
        "class Fraction:\n",
        "    def __init__(self, numerator, denominator):\n",
        "        self.numerator = numerator\n",
        "        self.denominator = denominator\n",
        "\n",
        "    def __str__(self):\n",
        "        return f\"{self.numerator}/{self.denominator}\"\n",
        "\n",
        "f1 = Fraction(1, 2)\n",
        "f2 = Fraction(3, 4)\n",
        "\n",
        "print(f1)\n",
        "print(f2)"
      ],
      "metadata": {
        "colab": {
          "base_uri": "https://localhost:8080/"
        },
        "id": "LETo0weNOeVT",
        "outputId": "a851d13c-837e-40cb-de06-3655bb5a0f19"
      },
      "execution_count": 2,
      "outputs": [
        {
          "output_type": "stream",
          "name": "stdout",
          "text": [
            "1/2\n",
            "3/4\n"
          ]
        }
      ]
    },
    {
      "cell_type": "code",
      "source": [
        "''' 10. Demonstrate operator overloading by creating a class Vector and overriding the add method to add two\n",
        "vectors.\n",
        "'''\n",
        "class Vector:\n",
        "    def __init__(self, x, y):\n",
        "        self.x = x\n",
        "        self.y = y\n",
        "\n",
        "\n",
        "    def __add__(self, other):\n",
        "        return Vector(self.x + other.x, self.y + other.y)\n",
        "\n",
        "    def __str__(self):\n",
        "        return f\"({self.x}, {self.y})\"\n",
        "\n",
        "v1 = Vector(2, 3)\n",
        "v2 = Vector(4, 5)\n",
        "\n",
        "v3 = v1 + v2\n",
        "\n",
        "print(\"Vector 1:\", v1)\n",
        "print(\"Vector 2:\", v2)\n",
        "print(\"Vector 1 + Vector 2 =\", v3)\n",
        "\n"
      ],
      "metadata": {
        "colab": {
          "base_uri": "https://localhost:8080/"
        },
        "id": "G6leoO6wO2yz",
        "outputId": "0a8dc336-1d15-4d69-a03c-34592f99acce"
      },
      "execution_count": 3,
      "outputs": [
        {
          "output_type": "stream",
          "name": "stdout",
          "text": [
            "Vector 1: (2, 3)\n",
            "Vector 2: (4, 5)\n",
            "Vector 1 + Vector 2 = (6, 8)\n"
          ]
        }
      ]
    },
    {
      "cell_type": "code",
      "source": [
        "''' 11. Create a class Person with attributes name and age. Add a method greet() that prints \"Hello, my name is\n",
        "{name} and I am {age} years old.\"\n",
        "'''\n",
        "class Person:\n",
        "    def __init__(self, name, age):\n",
        "        self.name = name\n",
        "        self.age = age\n",
        "\n",
        "    def greet(self):\n",
        "        print(f\"Hello, my name is {self.name} and I am {self.age} years old.\")\n",
        "\n",
        "p1 = Person(\"Divyanshi\", 25)\n",
        "\n",
        "\n",
        "p1.greet()"
      ],
      "metadata": {
        "colab": {
          "base_uri": "https://localhost:8080/"
        },
        "id": "rjV7V1Y5Pe0x",
        "outputId": "3267bbb3-c4b1-4b96-d914-eeae28036d33"
      },
      "execution_count": 4,
      "outputs": [
        {
          "output_type": "stream",
          "name": "stdout",
          "text": [
            "Hello, my name is Divyanshi and I am 25 years old.\n"
          ]
        }
      ]
    },
    {
      "cell_type": "code",
      "source": [
        "''' 12. Implement a class Student with attributes name and grades. Create a method average_grade() to compute\n",
        "the average of the grades.\n",
        "'''\n",
        "class Student:\n",
        "    def __init__(self, name, grades):\n",
        "        self.name = name\n",
        "        self.grades = grades\n",
        "\n",
        "    def average_grade(self):\n",
        "        if not self.grades:\n",
        "            return 0\n",
        "        return sum(self.grades) / len(self.grades)\n",
        "\n",
        "s1 = Student(\"divyanshi\", [85, 90, 78, 92])\n",
        "\n",
        "print(f\"{s1.name}'s average grade is: {s1.average_grade():.2f}\")"
      ],
      "metadata": {
        "colab": {
          "base_uri": "https://localhost:8080/"
        },
        "id": "cqoZoNjRPybp",
        "outputId": "0957776f-d24e-4ff8-ca4a-248dd789eacf"
      },
      "execution_count": 5,
      "outputs": [
        {
          "output_type": "stream",
          "name": "stdout",
          "text": [
            "divyanshi's average grade is: 86.25\n"
          ]
        }
      ]
    },
    {
      "cell_type": "code",
      "source": [
        "''' 13. Create a class Rectangle with methods set_dimensions() to set the dimensions and area() to calculate the\n",
        "area.\n",
        "'''\n",
        "class Rectangle:\n",
        "    def __init__(self):\n",
        "        self.length = 0\n",
        "        self.width = 0\n",
        "\n",
        "    def set_dimensions(self, length, width):\n",
        "        self.length = length\n",
        "        self.width = width\n",
        "\n",
        "    def area(self):\n",
        "        return self.length * self.width\n",
        "\n",
        "rect = Rectangle()\n",
        "\n",
        "\n",
        "rect.set_dimensions(5, 3)\n",
        "\n",
        "print(\"Area of the rectangle:\", rect.area())"
      ],
      "metadata": {
        "colab": {
          "base_uri": "https://localhost:8080/"
        },
        "id": "REPHUmq-QMMG",
        "outputId": "6d8a36b4-6fe3-4f7d-fa44-2780494166bf"
      },
      "execution_count": 6,
      "outputs": [
        {
          "output_type": "stream",
          "name": "stdout",
          "text": [
            "Area of the rectangle: 15\n"
          ]
        }
      ]
    },
    {
      "cell_type": "code",
      "source": [
        "''' 14. Create a class Employee with a method calculate_salary() that computes the salary based on hours worked\n",
        "and hourly rate. Create a derived class Manager that adds a bonus to the salary.\n",
        "'''\n",
        "class Employee:\n",
        "    def __init__(self, hours_worked, hourly_rate):\n",
        "        self.hours_worked = hours_worked\n",
        "        self.hourly_rate = hourly_rate\n",
        "\n",
        "    def calculate_salary(self):\n",
        "        return self.hours_worked * self.hourly_rate\n",
        "\n",
        "class Manager(Employee):\n",
        "    def __init__(self, hours_worked, hourly_rate, bonus):\n",
        "        super().__init__(hours_worked, hourly_rate)\n",
        "        self.bonus = bonus\n",
        "\n",
        "    def calculate_salary(self):\n",
        "        base_salary = super().calculate_salary()\n",
        "        return base_salary + self.bonus\n",
        "\n",
        "emp = Employee(40, 20)\n",
        "print(f\"Employee Salary: ₹{emp.calculate_salary()}\")\n",
        "\n",
        "\n",
        "mgr = Manager(40, 30, 500)\n",
        "print(f\"Manager Salary: ₹{mgr.calculate_salary()}\")"
      ],
      "metadata": {
        "colab": {
          "base_uri": "https://localhost:8080/"
        },
        "id": "M2pFKs5RQjBZ",
        "outputId": "b365d03f-3db8-48db-eae8-420f7dc0ca4d"
      },
      "execution_count": 7,
      "outputs": [
        {
          "output_type": "stream",
          "name": "stdout",
          "text": [
            "Employee Salary: ₹800\n",
            "Manager Salary: ₹1700\n"
          ]
        }
      ]
    },
    {
      "cell_type": "code",
      "source": [
        "'''15. Create a class Product with attributes name, price, and quantity. Implement a method total_price() that\n",
        "calculates the total price of the product.\n",
        "'''\n",
        "class Product:\n",
        "    def __init__(self, name, price, quantity):\n",
        "        self.name = name\n",
        "        self.price = price\n",
        "        self.quantity = quantity\n",
        "\n",
        "    def total_price(self):\n",
        "        return self.price * self.quantity\n",
        "\n",
        "\n",
        "product1 = Product(\"Laptop\", 50000, 2)\n",
        "\n",
        "print(f\"Product: {product1.name}\")\n",
        "print(f\"Total Price: ₹{product1.total_price()}\")"
      ],
      "metadata": {
        "colab": {
          "base_uri": "https://localhost:8080/"
        },
        "id": "r6sCVBM_RGR6",
        "outputId": "f9d548c5-b04b-4f50-c5d2-5982af12243e"
      },
      "execution_count": 8,
      "outputs": [
        {
          "output_type": "stream",
          "name": "stdout",
          "text": [
            "Product: Laptop\n",
            "Total Price: ₹100000\n"
          ]
        }
      ]
    },
    {
      "cell_type": "code",
      "source": [
        "''' 16. Create a class Animal with an abstract method sound(). Create two derived classes Cow and Sheep that\n",
        "implement the sound() method.\n",
        "'''\n",
        "from abc import ABC, abstractmethod\n",
        "\n",
        "\n",
        "class Animal(ABC):\n",
        "    @abstractmethod\n",
        "    def sound(self):\n",
        "        pass\n",
        "\n",
        "class Cow(Animal):\n",
        "    def sound(self):\n",
        "        return \"Moo\"\n",
        "\n",
        "class Sheep(Animal):\n",
        "    def sound(self):\n",
        "        return \"Baa\"\n",
        "\n",
        "cow = Cow()\n",
        "sheep = Sheep()\n",
        "\n",
        "print(\"Cow sound:\", cow.sound())\n",
        "print(\"Sheep sound:\", sheep.sound())"
      ],
      "metadata": {
        "colab": {
          "base_uri": "https://localhost:8080/"
        },
        "id": "N1KKMswIRW2U",
        "outputId": "bc97ce89-075b-420e-fe40-dc4cb0a1f15c"
      },
      "execution_count": 9,
      "outputs": [
        {
          "output_type": "stream",
          "name": "stdout",
          "text": [
            "Cow sound: Moo\n",
            "Sheep sound: Baa\n"
          ]
        }
      ]
    },
    {
      "cell_type": "code",
      "source": [
        "''' 17. Create a class Book with attributes title, author, and year_published. Add a method get_book_info() that\n",
        "returns a formatted string with the book's details.'''\n",
        "\n",
        "class Book:\n",
        "    def __init__(self, title, author, year_published):\n",
        "        self.title = title\n",
        "        self.author = author\n",
        "        self.year_published = year_published\n",
        "\n",
        "    def get_book_info(self):\n",
        "        return f\"'{self.title}' by {self.author}, published in {self.year_published}\"\n",
        "\n",
        "# Example usage\n",
        "book1 = Book(\"1984\", \"Fundamental of marketing\", 1949)\n",
        "print(book1.get_book_info())"
      ],
      "metadata": {
        "colab": {
          "base_uri": "https://localhost:8080/"
        },
        "id": "hWyiR8O6Rr4G",
        "outputId": "30435f3d-285c-4e52-c44b-ea0ff1fc0142"
      },
      "execution_count": 10,
      "outputs": [
        {
          "output_type": "stream",
          "name": "stdout",
          "text": [
            "'1984' by Fundamental of marketing, published in 1949\n"
          ]
        }
      ]
    },
    {
      "cell_type": "code",
      "source": [
        "''' 18. Create a class House with attributes address and price. Create a derived class Mansion that adds an\n",
        "attribute number_of_rooms.\n",
        "'''\n",
        "\n",
        "class House:\n",
        "    def __init__(self, address, price):\n",
        "        self.address = address\n",
        "        self.price = price\n",
        "\n",
        "\n",
        "class Mansion(House):\n",
        "    def __init__(self, address, price, number_of_rooms):\n",
        "        super().__init__(address, price)\n",
        "        self.number_of_rooms = number_of_rooms\n",
        "\n",
        "\n",
        "house = House(\"123 Main St Assiyana\", 250000)\n",
        "print(f\"House address: {house.address}, price: ₹{house.price}\")\n",
        "\n",
        "\n",
        "mansion = Mansion(\"456 LDA Colony\", 2000000, 10)\n",
        "print(f\"Mansion address: {mansion.address}, price: ₹{mansion.price}, rooms: {mansion.number_of_rooms}\")\n"
      ],
      "metadata": {
        "colab": {
          "base_uri": "https://localhost:8080/"
        },
        "id": "VNSk37awSGUr",
        "outputId": "0f938db4-0074-42c5-8423-124038e93122"
      },
      "execution_count": 13,
      "outputs": [
        {
          "output_type": "stream",
          "name": "stdout",
          "text": [
            "House address: 123 Main St Assiyana, price: ₹250000\n",
            "Mansion address: 456 LDA Colony, price: ₹2000000, rooms: 10\n"
          ]
        }
      ]
    },
    {
      "cell_type": "markdown",
      "source": [
        "#**Finished**"
      ],
      "metadata": {
        "id": "d_b-lhJPS2B2"
      }
    }
  ]
}